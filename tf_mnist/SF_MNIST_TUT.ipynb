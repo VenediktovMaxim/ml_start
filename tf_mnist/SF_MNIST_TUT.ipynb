{
 "cells": [
  {
   "cell_type": "code",
   "execution_count": 1,
   "metadata": {},
   "outputs": [],
   "source": [
    "import os\n",
    "#os.environ[\"CUDA_VISIBLE_DEVICES\"] = \"0\"\n",
    "import tensorflow as tf\n",
    "import numpy as np\n",
    "%matplotlib inline\n",
    "import matplotlib.pyplot as plt"
   ]
  },
  {
   "cell_type": "code",
   "execution_count": 2,
   "metadata": {},
   "outputs": [],
   "source": [
    "tf.enable_eager_execution() #Включаем режим динамического графа"
   ]
  },
  {
   "cell_type": "code",
   "execution_count": 3,
   "metadata": {
    "code_folding": [
     0
    ]
   },
   "outputs": [],
   "source": [
    "#В режиме статического графа\n",
    "#В таком режиме сначала строится полный граф нейронной сети, затем он замораживается и изменять его больше нельзя.\n",
    "\n",
    "#В режиме динамического графа (жадного выполнения)\n",
    "#Такой режим используется во многих фреймворках. \n",
    "#В этом случае граф описывается с помощью произвольного python кода, и потом #есть возможность менять этот код в ходе работы. "
   ]
  },
  {
   "cell_type": "code",
   "execution_count": 4,
   "metadata": {
    "code_folding": []
   },
   "outputs": [],
   "source": [
    "#ПАРАМЕТРЫ ДЛЯ СЕТИ\n",
    "\n",
    "NUM_EPOCHS = 10 # колличество эпох в сети\n",
    "BATCH_SIZE = 64 # Батч - колличество образцов показываемых на одной итерации градиентного спуска.\n",
    "LEARNING_RATE = 0.0001 #скорость обучения"
   ]
  },
  {
   "cell_type": "code",
   "execution_count": 5,
   "metadata": {},
   "outputs": [],
   "source": [
    "(train_x,train_y),(test_x,test_y) = tf.keras.datasets.mnist.load_data() #загружаем dataset mnist"
   ]
  },
  {
   "cell_type": "code",
   "execution_count": 6,
   "metadata": {},
   "outputs": [
    {
     "name": "stdout",
     "output_type": "stream",
     "text": [
      "(60000, 28, 28) uint8\n",
      "(60000,) uint8\n",
      "(10000, 28, 28) uint8\n",
      "(10000,) uint8\n"
     ]
    }
   ],
   "source": [
    "print(train_x.shape,train_x.dtype)\n",
    "print(train_y.shape,train_y.dtype)\n",
    "print(test_x.shape,test_x.dtype)\n",
    "print(test_y.shape,test_y.dtype)"
   ]
  },
  {
   "cell_type": "code",
   "execution_count": 7,
   "metadata": {},
   "outputs": [],
   "source": [
    "train_x = train_x.reshape(-1,28,28,1).astype(np.float32)/255. #меняем размерность, меняем тип и приводим\n",
    "test_x = test_x.reshape(-1,28,28,1).astype(np.float32)/255.\n",
    "\n",
    "train_y = train_y.astype(np.int32)\n",
    "test_y = test_y.astype(np.int32)"
   ]
  },
  {
   "cell_type": "code",
   "execution_count": 8,
   "metadata": {},
   "outputs": [
    {
     "name": "stdout",
     "output_type": "stream",
     "text": [
      "(60000, 28, 28, 1) float32\n",
      "(60000,) int32\n",
      "(10000, 28, 28, 1) float32\n",
      "(10000,) int32\n"
     ]
    }
   ],
   "source": [
    "print(train_x.shape,train_x.dtype)\n",
    "print(train_y.shape,train_y.dtype)\n",
    "print(test_x.shape,test_x.dtype)\n",
    "print(test_y.shape,test_y.dtype)"
   ]
  },
  {
   "cell_type": "code",
   "execution_count": 9,
   "metadata": {},
   "outputs": [],
   "source": [
    "some_samples = train_x[:10, ...] #32 элемента для отображения "
   ]
  },
  {
   "cell_type": "code",
   "execution_count": 10,
   "metadata": {
    "code_folding": [],
    "scrolled": true
   },
   "outputs": [
    {
     "data": {
      "image/png": "[encoded data removed]",
      "text/plain": [
       "<Figure size 720x432 with 10 Axes>"
      ]
     },
     "metadata": {},
     "output_type": "display_data"
    }
   ],
   "source": [
    "#Отображаем данные с помощью matpotlib\n",
    "fig = plt.figure(figsize=(10,6))\n",
    "for j in range(some_samples.shape[0]):\n",
    "    ax = fig.add_subplot(10,10,j+1)\n",
    "    ax.imshow(some_samples[j,:,:,0],cmap = 'gray')\n",
    "    plt.xticks([]), plt.yticks([])\n",
    "plt.show()"
   ]
  },
  {
   "cell_type": "code",
   "execution_count": 11,
   "metadata": {
    "code_folding": [
     0
    ]
   },
   "outputs": [],
   "source": [
    "#tf.data — пакет внутри tensorflow, который предоставляет различные удобные функции для работы с данными. \n",
    "#Dataset. from_tensor_slices — класс с функцией, которая сделает нам датасет с тензорами\n",
    "#С помощью цепной последовательности функции можно модифицировать \n",
    "#Обучение будет происходить в несколько эпох. Одна эпоха = один показ датасета."
   ]
  },
  {
   "cell_type": "code",
   "execution_count": 12,
   "metadata": {},
   "outputs": [],
   "source": [
    "train_ds = tf.data.Dataset.from_tensor_slices((train_x,train_y))"
   ]
  },
  {
   "cell_type": "code",
   "execution_count": 13,
   "metadata": {},
   "outputs": [],
   "source": [
    "train_ds = train_ds.shuffle(buffer_size=train_x.shape[0])#перемешиваем данные в датас"
   ]
  },
  {
   "cell_type": "code",
   "execution_count": 14,
   "metadata": {},
   "outputs": [],
   "source": [
    "train_ds = train_ds.repeat(NUM_EPOCHS)#устанавливаем колличество эпох "
   ]
  },
  {
   "cell_type": "code",
   "execution_count": 15,
   "metadata": {},
   "outputs": [],
   "source": [
    "train_ds = train_ds.batch(BATCH_SIZE)#устанавливем батч"
   ]
  },
  {
   "cell_type": "code",
   "execution_count": 16,
   "metadata": {},
   "outputs": [],
   "source": [
    "from tensorflow import layers\n",
    "class Model(tf.keras.Model):\n",
    "    \n",
    "    def __init__(self):\n",
    "        super(Model,self).__init__()\n",
    "    \n",
    "        self.Conv1 =  tf.layers.Conv2D(32,(5,5),activation = tf.nn.relu,padding = 'same')\n",
    "        self.Conv2 = tf.layers.Conv2D(64,(5,5),activation = tf.nn.relu,padding = 'same')\n",
    "        self.Fc1 = tf.layers.Dense(256,activation = tf.nn.relu)\n",
    "        self.Fc2 = tf.layers.Dense(10,activation = None)\n",
    "        self.MaxPooling =tf.layers.MaxPooling2D((2,2),(2,2),padding = 'same')\n",
    "    def __call__(self,inp):\n",
    "        out = self.Conv1(inp)\n",
    "        out = self.MaxPooling(out)\n",
    "        out = self.Conv2(out)\n",
    "        out = self.MaxPooling(out)\n",
    "        out = tf.layers.flatten(out)\n",
    "        out = self.Fc1(out)\n",
    "        out = self.Fc2(out)\n",
    "        return out"
   ]
  },
  {
   "cell_type": "code",
   "execution_count": 17,
   "metadata": {},
   "outputs": [],
   "source": [
    "model = Model()\n"
   ]
  },
  {
   "cell_type": "code",
   "execution_count": 18,
   "metadata": {
    "code_folding": []
   },
   "outputs": [],
   "source": [
    "#Вычисляем ошибку\n",
    "def loss(logits,labels):\n",
    "    return tf.reduce_mean(tf.nn.sparse_softmax_cross_entropy_with_logits(logits=logits,labels=labels))"
   ]
  },
  {
   "cell_type": "code",
   "execution_count": 19,
   "metadata": {
    "code_folding": []
   },
   "outputs": [],
   "source": [
    "#Вычисляем точность\n",
    "def accuracy(logits, labels):\n",
    "    prdictions = tf.argmax(logits,axis=1,output_type = tf.int32)\n",
    "    return tf.reduce_mean(tf.cast(tf.equal(prdictions,labels),dtype=tf.float32))"
   ]
  },
  {
   "cell_type": "code",
   "execution_count": 20,
   "metadata": {},
   "outputs": [],
   "source": [
    "#optimizer = tf.train.GradientDescentOptimizer(LEARNING_RATE)#создаем опимизатор на базе градиентного спуска\n",
    "optimizer = tf.train.AdamOptimizer(LEARNING_RATE)#создаем опимизатор на базе ADAM"
   ]
  },
  {
   "cell_type": "code",
   "execution_count": 21,
   "metadata": {},
   "outputs": [
    {
     "name": "stdout",
     "output_type": "stream",
     "text": [
      "WARNING:tensorflow:\n",
      "The TensorFlow contrib module will not be included in TensorFlow 2.0.\n",
      "For more information, please see:\n",
      "  * https://github.com/tensorflow/community/blob/master/rfcs/20180907-contrib-sunset.md\n",
      "  * https://github.com/tensorflow/addons\n",
      "  * https://github.com/tensorflow/io (for I/O related ops)\n",
      "If you depend on functionality not listed there, please file an issue.\n",
      "\n"
     ]
    }
   ],
   "source": [
    "writer =tf.contrib.summary.create_file_writer(\"logs/adam_maxim\") #запишем логи работы в файл"
   ]
  },
  {
   "cell_type": "code",
   "execution_count": 22,
   "metadata": {},
   "outputs": [],
   "source": [
    "global_step = tf.train.get_or_create_global_step() #номер глобального шага"
   ]
  },
  {
   "cell_type": "code",
   "execution_count": 23,
   "metadata": {
    "scrolled": true
   },
   "outputs": [
    {
     "name": "stdout",
     "output_type": "stream",
     "text": [
      "WARNING:tensorflow:From <ipython-input-16-d290786c6a06>:17: flatten (from tensorflow.python.layers.core) is deprecated and will be removed in a future version.\n",
      "Instructions for updating:\n",
      "Use keras.layers.flatten instead.\n",
      "[ 200] Accuary: 92.19 %\n",
      "[ 400] Accuary: 96.88 %\n",
      "[ 600] Accuary: 98.05 %\n",
      "[ 800] Accuary: 98.83 %\n",
      "[1000] Accuary: 99.22 %\n",
      "[1200] Accuary: 99.61 %\n",
      "[1400] Accuary: 99.22 %\n",
      "[1600] Accuary: 99.61 %\n",
      "[1800] Accuary: 99.61 %\n",
      "[2000] Accuary: 98.83 %\n",
      "[2200] Accuary: 100.00 %\n",
      "[2400] Accuary: 100.00 %\n",
      "[2600] Accuary: 98.83 %\n",
      "[2800] Accuary: 100.00 %\n",
      "[3000] Accuary: 99.61 %\n",
      "[3200] Accuary: 99.61 %\n",
      "[3400] Accuary: 99.61 %\n",
      "[3600] Accuary: 99.22 %\n",
      "[3800] Accuary: 99.61 %\n",
      "[4000] Accuary: 100.00 %\n",
      "[4200] Accuary: 100.00 %\n",
      "[4400] Accuary: 99.22 %\n",
      "[4600] Accuary: 99.22 %\n",
      "[4800] Accuary: 99.22 %\n",
      "[5000] Accuary: 100.00 %\n",
      "[5200] Accuary: 100.00 %\n",
      "[5400] Accuary: 99.61 %\n",
      "[5600] Accuary: 99.61 %\n",
      "[5800] Accuary: 100.00 %\n",
      "[6000] Accuary: 99.61 %\n",
      "[6200] Accuary: 99.22 %\n",
      "[6400] Accuary: 100.00 %\n",
      "[6600] Accuary: 100.00 %\n",
      "[6800] Accuary: 100.00 %\n",
      "[7000] Accuary: 99.61 %\n",
      "[7200] Accuary: 99.22 %\n",
      "[7400] Accuary: 99.22 %\n",
      "[7600] Accuary: 99.61 %\n",
      "[7800] Accuary: 99.61 %\n",
      "[8000] Accuary: 100.00 %\n",
      "[8200] Accuary: 99.22 %\n",
      "[8400] Accuary: 100.00 %\n",
      "[8600] Accuary: 99.61 %\n",
      "[8800] Accuary: 99.22 %\n",
      "[9000] Accuary: 99.61 %\n",
      "[9200] Accuary: 100.00 %\n",
      "Wall time: 2min 32s\n"
     ]
    }
   ],
   "source": [
    "%%time\n",
    "\n",
    "for (images,labels) in train_ds:\n",
    "    \n",
    "    #forward шаг 1 - прямое распространение\n",
    "    #создание градиентной ленты\n",
    "    with tf.GradientTape() as tape:\n",
    "        logits = model(images)\n",
    "        loss_value = loss(logits,labels)\n",
    "    \n",
    "    #backward 2 шаг - обратное распространение ошибки\n",
    "    grads = tape.gradient(loss_value,model.variables)\n",
    "    optimizer.apply_gradients(zip(grads,model.variables),global_step=global_step)\n",
    "    \n",
    "    #шаг 3\n",
    "    \n",
    "    if global_step.numpy() % 200 == 0:\n",
    "        test_logits=model(test_x[:256,...])\n",
    "        accuracy_value=accuracy(test_logits,test_y[:256,...])\n",
    "        \n",
    "        print(\"[%4d] Accuary: %5.2f %%\" % (global_step.numpy(),accuracy_value.numpy()*100))\n",
    "        with writer.as_default():\n",
    "            with tf.contrib.summary.always_record_summaries():\n",
    "                tf.contrib.summary.scalar('accuracy',accuracy_value)\n",
    "                tf.contrib.summary.scalar('loss',loss_value)\n",
    "        \n",
    "        "
   ]
  },
  {
   "cell_type": "code",
   "execution_count": 25,
   "metadata": {},
   "outputs": [
    {
     "name": "stdout",
     "output_type": "stream",
     "text": [
      "Final Accuracy: 99.13 %\n"
     ]
    }
   ],
   "source": [
    "test_logits = model(test_x)\n",
    "accuracy_value = accuracy(test_logits, test_y).numpy()\n",
    "\n",
    "print(\"Final Accuracy: %5.2f %%\" % (accuracy_value * 100))"
   ]
  },
  {
   "cell_type": "code",
   "execution_count": 28,
   "metadata": {},
   "outputs": [],
   "source": [
    "def test_digit(sample):\n",
    "    \n",
    "    sample = sample[np.newaxis, ...]\n",
    "    logits = model(sample)\n",
    "    prediction = tf.nn.softmax(logits)\n",
    "    ans = np.argmax(prediction)\n",
    "    \n",
    "    fig = plt.figure(figsize=(12,4))\n",
    "\n",
    "    ax = fig.add_subplot(1,2,1)\n",
    "    ax.imshow(sample[0,:,:,0],cmap = 'gray')\n",
    "    plt.xticks([]), plt.yticks([])\n",
    "\n",
    "    ax = fig.add_subplot(1, 2, 2)\n",
    "    bar_list = ax.bar(np.arange(10), prediction[0], align='center')\n",
    "    bar_list[ans].set_color('g')\n",
    "    ax.set_xticks(np.arange(10))\n",
    "    ax.set_xlim([-1, 10])\n",
    "    ax.grid(True)\n",
    "\n",
    "    plt.show()\n",
    "    \n",
    "    print('Predicted number: {}'.format(ans))\n",
    "    "
   ]
  },
  {
   "cell_type": "code",
   "execution_count": 38,
   "metadata": {},
   "outputs": [
    {
     "data": {
      "image/png": "[encoded data removed]",
      "text/plain": [
       "<Figure size 864x288 with 2 Axes>"
      ]
     },
     "metadata": {
      "needs_background": "light"
     },
     "output_type": "display_data"
    },
    {
     "name": "stdout",
     "output_type": "stream",
     "text": [
      "Predicted number: 2\n",
      "True Answer: 7\n"
     ]
    }
   ],
   "source": [
    "import random\n",
    "idx = random.randint(0,test_x.shape[0])\n",
    "sample = test_x[idx,...]\n",
    "test_digit(sample)\n",
    "print('True Answer: {}'.format(test_y[idx]))"
   ]
  },
  {
   "cell_type": "code",
   "execution_count": null,
   "metadata": {},
   "outputs": [],
   "source": []
  }
 ],
 "metadata": {
  "kernelspec": {
   "display_name": "Python 3",
   "language": "python",
   "name": "python3"
  },
  "language_info": {
   "codemirror_mode": {
    "name": "ipython",
    "version": 3
   },
   "file_extension": ".py",
   "mimetype": "text/x-python",
   "name": "python",
   "nbconvert_exporter": "python",
   "pygments_lexer": "ipython3",
   "version": "3.7.3"
  }
 },
 "nbformat": 4,
 "nbformat_minor": 2
}
